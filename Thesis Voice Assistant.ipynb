{
 "cells": [
  {
   "cell_type": "markdown",
   "id": "605f5a4d",
   "metadata": {},
   "source": [
    "# Import the required libraries"
   ]
  },
  {
   "cell_type": "code",
   "execution_count": 1,
   "id": "dbc52357",
   "metadata": {},
   "outputs": [],
   "source": [
    "import speech_recognition as sr\n",
    "import pyttsx3\n",
    "import pywhatkit\n",
    "import datetime\n",
    "import wikipedia\n",
    "import pyjokes\n",
    "import webbrowser\n",
    "import os\n",
    "from ecapture import ecapture as ec"
   ]
  },
  {
   "cell_type": "markdown",
   "id": "5c7be1af",
   "metadata": {},
   "source": [
    "# Audio source configuration"
   ]
  },
  {
   "cell_type": "code",
   "execution_count": 2,
   "id": "5ac236a9",
   "metadata": {},
   "outputs": [],
   "source": [
    "listener = sr.Recognizer()   # The listener object is created as an instance of the Recognizer class\n",
    "sound = pyttsx3.init()\n",
    "voices = sound.getProperty('voices')\n",
    "sound.setProperty('voice', voices[1].id)\n",
    "# voice[0] stands for male voice voice [1] stands for female voice. here I used the female voice"
   ]
  },
  {
   "cell_type": "markdown",
   "id": "28bda359",
   "metadata": {},
   "source": [
    "# Speech output"
   ]
  },
  {
   "cell_type": "code",
   "execution_count": 3,
   "id": "01e725e5",
   "metadata": {},
   "outputs": [],
   "source": [
    "def speak(text):\n",
    "    sound.say(text)\n",
    "    sound.runAndWait()"
   ]
  },
  {
   "cell_type": "markdown",
   "id": "5101e2b1",
   "metadata": {},
   "source": [
    "# Recognizing the input voice"
   ]
  },
  {
   "cell_type": "code",
   "execution_count": 4,
   "id": "f6cf90cd",
   "metadata": {},
   "outputs": [],
   "source": [
    "def take_user_input():\n",
    "    try: \n",
    "        # from the speech_Recognition module\n",
    "        # we will use the Microphone module\n",
    "        # for listening the user input\n",
    "        with sr.Microphone() as source:\n",
    "            print('listening...')\n",
    "             # seconds of non-speaking audio before\n",
    "             # a phrase is considered complete\n",
    "            listener.pause_threshold = 4\n",
    "            voice = listener.listen(source, phrase_time_limit = 10)\n",
    "            user_input = listener.recognize_google(voice, language='en-in')\n",
    "            user_input = user_input.lower()\n",
    "            if 'voice assistant' in user_input:\n",
    "                voice_input = voice_input.replace('voice assistant', '')\n",
    "                print(user_input)\n",
    "    except Exception as e:              # Error Handling is used inorder to deal with the unknown input to the user\n",
    "        print(e)\n",
    "        print(\"Unable to recognize your voice\")\n",
    "        return \"none\"\n",
    "    return user_input"
   ]
  },
  {
   "cell_type": "code",
   "execution_count": 5,
   "id": "9b6c8c4b",
   "metadata": {},
   "outputs": [
    {
     "name": "stdout",
     "output_type": "stream",
     "text": [
      "listening...\n",
      "what is the time now\n",
      "Current time is 08:16 AM\n",
      "listening...\n",
      "open microsoft word\n",
      "listening...\n",
      "open microsoft excel\n",
      "listening...\n",
      "\n",
      "Unable to recognize your voice\n",
      "none\n",
      "listening...\n"
     ]
    },
    {
     "ename": "KeyboardInterrupt",
     "evalue": "",
     "output_type": "error",
     "traceback": [
      "\u001b[1;31m---------------------------------------------------------------------------\u001b[0m",
      "\u001b[1;31mKeyboardInterrupt\u001b[0m                         Traceback (most recent call last)",
      "\u001b[1;32m~\\AppData\\Local\\Temp\\ipykernel_42464\\349529759.py\u001b[0m in \u001b[0;36m<module>\u001b[1;34m\u001b[0m\n\u001b[0;32m     84\u001b[0m \u001b[1;33m\u001b[0m\u001b[0m\n\u001b[0;32m     85\u001b[0m \u001b[1;32mwhile\u001b[0m \u001b[1;32mTrue\u001b[0m\u001b[1;33m:\u001b[0m\u001b[1;33m\u001b[0m\u001b[1;33m\u001b[0m\u001b[0m\n\u001b[1;32m---> 86\u001b[1;33m     \u001b[0mrun_voice_assistant\u001b[0m\u001b[1;33m(\u001b[0m\u001b[1;33m)\u001b[0m\u001b[1;33m\u001b[0m\u001b[1;33m\u001b[0m\u001b[0m\n\u001b[0m",
      "\u001b[1;32m~\\AppData\\Local\\Temp\\ipykernel_42464\\349529759.py\u001b[0m in \u001b[0;36mrun_voice_assistant\u001b[1;34m()\u001b[0m\n\u001b[0;32m      1\u001b[0m \u001b[1;32mdef\u001b[0m \u001b[0mrun_voice_assistant\u001b[0m\u001b[1;33m(\u001b[0m\u001b[1;33m)\u001b[0m\u001b[1;33m:\u001b[0m\u001b[1;33m\u001b[0m\u001b[1;33m\u001b[0m\u001b[0m\n\u001b[1;32m----> 2\u001b[1;33m     \u001b[0muser_input\u001b[0m \u001b[1;33m=\u001b[0m \u001b[0mtake_user_input\u001b[0m\u001b[1;33m(\u001b[0m\u001b[1;33m)\u001b[0m\u001b[1;33m\u001b[0m\u001b[1;33m\u001b[0m\u001b[0m\n\u001b[0m\u001b[0;32m      3\u001b[0m     \u001b[0mprint\u001b[0m\u001b[1;33m(\u001b[0m\u001b[0muser_input\u001b[0m\u001b[1;33m)\u001b[0m\u001b[1;33m\u001b[0m\u001b[1;33m\u001b[0m\u001b[0m\n\u001b[0;32m      4\u001b[0m     \u001b[1;32mif\u001b[0m \u001b[1;34m'play'\u001b[0m \u001b[1;32min\u001b[0m \u001b[0muser_input\u001b[0m\u001b[1;33m:\u001b[0m\u001b[1;33m\u001b[0m\u001b[1;33m\u001b[0m\u001b[0m\n\u001b[0;32m      5\u001b[0m         \u001b[0mcontent\u001b[0m \u001b[1;33m=\u001b[0m \u001b[0muser_input\u001b[0m\u001b[1;33m.\u001b[0m\u001b[0mreplace\u001b[0m\u001b[1;33m(\u001b[0m\u001b[1;34m'play'\u001b[0m\u001b[1;33m,\u001b[0m \u001b[1;34m''\u001b[0m\u001b[1;33m)\u001b[0m\u001b[1;33m\u001b[0m\u001b[1;33m\u001b[0m\u001b[0m\n",
      "\u001b[1;32m~\\AppData\\Local\\Temp\\ipykernel_42464\\885440346.py\u001b[0m in \u001b[0;36mtake_user_input\u001b[1;34m()\u001b[0m\n\u001b[0;32m      9\u001b[0m              \u001b[1;31m# a phrase is considered complete\u001b[0m\u001b[1;33m\u001b[0m\u001b[1;33m\u001b[0m\u001b[0m\n\u001b[0;32m     10\u001b[0m             \u001b[0mlistener\u001b[0m\u001b[1;33m.\u001b[0m\u001b[0mpause_threshold\u001b[0m \u001b[1;33m=\u001b[0m \u001b[1;36m4\u001b[0m\u001b[1;33m\u001b[0m\u001b[1;33m\u001b[0m\u001b[0m\n\u001b[1;32m---> 11\u001b[1;33m             \u001b[0mvoice\u001b[0m \u001b[1;33m=\u001b[0m \u001b[0mlistener\u001b[0m\u001b[1;33m.\u001b[0m\u001b[0mlisten\u001b[0m\u001b[1;33m(\u001b[0m\u001b[0msource\u001b[0m\u001b[1;33m,\u001b[0m \u001b[0mphrase_time_limit\u001b[0m \u001b[1;33m=\u001b[0m \u001b[1;36m10\u001b[0m\u001b[1;33m)\u001b[0m\u001b[1;33m\u001b[0m\u001b[1;33m\u001b[0m\u001b[0m\n\u001b[0m\u001b[0;32m     12\u001b[0m             \u001b[0muser_input\u001b[0m \u001b[1;33m=\u001b[0m \u001b[0mlistener\u001b[0m\u001b[1;33m.\u001b[0m\u001b[0mrecognize_google\u001b[0m\u001b[1;33m(\u001b[0m\u001b[0mvoice\u001b[0m\u001b[1;33m,\u001b[0m \u001b[0mlanguage\u001b[0m\u001b[1;33m=\u001b[0m\u001b[1;34m'en-in'\u001b[0m\u001b[1;33m)\u001b[0m\u001b[1;33m\u001b[0m\u001b[1;33m\u001b[0m\u001b[0m\n\u001b[0;32m     13\u001b[0m             \u001b[0muser_input\u001b[0m \u001b[1;33m=\u001b[0m \u001b[0muser_input\u001b[0m\u001b[1;33m.\u001b[0m\u001b[0mlower\u001b[0m\u001b[1;33m(\u001b[0m\u001b[1;33m)\u001b[0m\u001b[1;33m\u001b[0m\u001b[1;33m\u001b[0m\u001b[0m\n",
      "\u001b[1;32m~\\anaconda3\\lib\\site-packages\\speech_recognition\\__init__.py\u001b[0m in \u001b[0;36mlisten\u001b[1;34m(self, source, timeout, phrase_time_limit, snowboy_configuration)\u001b[0m\n\u001b[0;32m    521\u001b[0m                     \u001b[1;32mbreak\u001b[0m\u001b[1;33m\u001b[0m\u001b[1;33m\u001b[0m\u001b[0m\n\u001b[0;32m    522\u001b[0m \u001b[1;33m\u001b[0m\u001b[0m\n\u001b[1;32m--> 523\u001b[1;33m                 \u001b[0mbuffer\u001b[0m \u001b[1;33m=\u001b[0m \u001b[0msource\u001b[0m\u001b[1;33m.\u001b[0m\u001b[0mstream\u001b[0m\u001b[1;33m.\u001b[0m\u001b[0mread\u001b[0m\u001b[1;33m(\u001b[0m\u001b[0msource\u001b[0m\u001b[1;33m.\u001b[0m\u001b[0mCHUNK\u001b[0m\u001b[1;33m)\u001b[0m\u001b[1;33m\u001b[0m\u001b[1;33m\u001b[0m\u001b[0m\n\u001b[0m\u001b[0;32m    524\u001b[0m                 \u001b[1;32mif\u001b[0m \u001b[0mlen\u001b[0m\u001b[1;33m(\u001b[0m\u001b[0mbuffer\u001b[0m\u001b[1;33m)\u001b[0m \u001b[1;33m==\u001b[0m \u001b[1;36m0\u001b[0m\u001b[1;33m:\u001b[0m \u001b[1;32mbreak\u001b[0m  \u001b[1;31m# reached end of the stream\u001b[0m\u001b[1;33m\u001b[0m\u001b[1;33m\u001b[0m\u001b[0m\n\u001b[0;32m    525\u001b[0m                 \u001b[0mframes\u001b[0m\u001b[1;33m.\u001b[0m\u001b[0mappend\u001b[0m\u001b[1;33m(\u001b[0m\u001b[0mbuffer\u001b[0m\u001b[1;33m)\u001b[0m\u001b[1;33m\u001b[0m\u001b[1;33m\u001b[0m\u001b[0m\n",
      "\u001b[1;32m~\\anaconda3\\lib\\site-packages\\speech_recognition\\__init__.py\u001b[0m in \u001b[0;36mread\u001b[1;34m(self, size)\u001b[0m\n\u001b[0;32m    197\u001b[0m \u001b[1;33m\u001b[0m\u001b[0m\n\u001b[0;32m    198\u001b[0m         \u001b[1;32mdef\u001b[0m \u001b[0mread\u001b[0m\u001b[1;33m(\u001b[0m\u001b[0mself\u001b[0m\u001b[1;33m,\u001b[0m \u001b[0msize\u001b[0m\u001b[1;33m)\u001b[0m\u001b[1;33m:\u001b[0m\u001b[1;33m\u001b[0m\u001b[1;33m\u001b[0m\u001b[0m\n\u001b[1;32m--> 199\u001b[1;33m             \u001b[1;32mreturn\u001b[0m \u001b[0mself\u001b[0m\u001b[1;33m.\u001b[0m\u001b[0mpyaudio_stream\u001b[0m\u001b[1;33m.\u001b[0m\u001b[0mread\u001b[0m\u001b[1;33m(\u001b[0m\u001b[0msize\u001b[0m\u001b[1;33m,\u001b[0m \u001b[0mexception_on_overflow\u001b[0m\u001b[1;33m=\u001b[0m\u001b[1;32mFalse\u001b[0m\u001b[1;33m)\u001b[0m\u001b[1;33m\u001b[0m\u001b[1;33m\u001b[0m\u001b[0m\n\u001b[0m\u001b[0;32m    200\u001b[0m \u001b[1;33m\u001b[0m\u001b[0m\n\u001b[0;32m    201\u001b[0m         \u001b[1;32mdef\u001b[0m \u001b[0mclose\u001b[0m\u001b[1;33m(\u001b[0m\u001b[0mself\u001b[0m\u001b[1;33m)\u001b[0m\u001b[1;33m:\u001b[0m\u001b[1;33m\u001b[0m\u001b[1;33m\u001b[0m\u001b[0m\n",
      "\u001b[1;32m~\\anaconda3\\lib\\site-packages\\pyaudio\\__init__.py\u001b[0m in \u001b[0;36mread\u001b[1;34m(self, num_frames, exception_on_overflow)\u001b[0m\n\u001b[0;32m    568\u001b[0m                 raise IOError(\"Not input stream\",\n\u001b[0;32m    569\u001b[0m                               paCanNotReadFromAnOutputOnlyStream)\n\u001b[1;32m--> 570\u001b[1;33m             return pa.read_stream(self._stream, num_frames,\n\u001b[0m\u001b[0;32m    571\u001b[0m                                   exception_on_overflow)\n\u001b[0;32m    572\u001b[0m \u001b[1;33m\u001b[0m\u001b[0m\n",
      "\u001b[1;31mKeyboardInterrupt\u001b[0m: "
     ]
    }
   ],
   "source": [
    "\n",
    "def run_voice_assistant():\n",
    "    user_input = take_user_input()\n",
    "    print(user_input)\n",
    "    if 'play' in user_input:\n",
    "        content = user_input.replace('play', '')\n",
    "        speak('playing ' + content)\n",
    "        pywhatkit.playonyt(content)\n",
    "    elif 'time' in user_input:\n",
    "        time = datetime.datetime.now().strftime(\"%I:%M %p\")\n",
    "        speak('Current time is ' + time)\n",
    "        print('Current time is ' + time)\n",
    "    elif 'weather' in user_input:\n",
    "        speak('I am unable to get todays weather forecast')\n",
    "        print('I am unable to get todays weather forecast')\n",
    "    elif 'joke' in user_input:\n",
    "        print(pyjokes.get_joke())\n",
    "        speak(pyjokes.get_joke())\n",
    "    elif 'open google' in user_input:\n",
    "        speak(\"Here you go to Google\\n\")\n",
    "        webbrowser.open(\"google.com\")\n",
    "    elif \"chrome\" in user_input:\n",
    "        speak(\"Google Chrome\")\n",
    "        os.startfile('C:\\ProgramData\\Microsoft\\Windows\\Start Menu\\Programs\\Google Chrome.lnk')\n",
    "        return\n",
    " \n",
    "    elif \"firefox\" in user_input or \"mozilla\" in user_input:\n",
    "        speak(\"Opening Mozilla Firefox\")\n",
    "        os.startfile('C:\\ProgramData\\Microsoft\\Windows\\Start Menu\\Programs\\Firefox.lnk')\n",
    "        return\n",
    " \n",
    "    elif \"word\" in user_input:\n",
    "        speak(\"Opening Microsoft Word\")\n",
    "        os.startfile('C:\\ProgramData\\Microsoft\\Windows\\Start Menu\\Programs\\Word.lnk')\n",
    "        return\n",
    " \n",
    "    elif \"excel\" in user_input:\n",
    "        speak(\"Opening Microsoft Excel\")\n",
    "        os.startfile('C:\\ProgramData\\Microsoft\\Windows\\Start Menu\\Programs\\Excel.lnk')\n",
    "        return\n",
    "    \n",
    "    elif 'shut down' in user_input:\n",
    "        speak(\"Your system is going to shutdown soon\")\n",
    "        os.system(\"shutdown /s /t 25\")\n",
    "\n",
    "    elif \"where is\" in user_input:\n",
    "            user_input = user_input.replace(\"locate\", \"\")\n",
    "            location = user_input\n",
    "            speak(\"User asked to locate\")\n",
    "            speak(location)\n",
    "            webbrowser.open(\"https://www.google.de/maps/place/\" + location + \"\")\n",
    "            \n",
    "    elif 'how are you' in user_input:\n",
    "        speak(\"I am fine, Thank you\")\n",
    "        speak(\"How are you\")\n",
    "        \n",
    "    elif 'open youtube' in user_input:\n",
    "        speak(\"Here you go to Youtube\\n\")\n",
    "        webbrowser.open(\"youtube.com\")\n",
    "        \n",
    "    elif 'fine' in user_input or \"good\" in user_input:\n",
    "        speak(\"It's good to know that your fine\")\n",
    "        \n",
    "    elif 'wikipedia' in user_input:\n",
    "        speak('Searching Wikipedia...')\n",
    "        query = user_input.replace(\"wikipedia\", \"\")\n",
    "        results = wikipedia.summary(query, sentences=3)\n",
    "        speak(\"According to Wikipedia\")\n",
    "        print(results)\n",
    "        speak(results)\n",
    "        \n",
    "    elif \"open webcam\" in user_input or \"google meet\" in user_input:\n",
    "        webbrowser.open(\"meet.google.com\")\n",
    "        \n",
    "    if \"camera\" in user_input or \"take a photo\" in user_input:\n",
    "            ec.capture(0, \"Voice assistant Camera \", \"img.jpg\")\n",
    "            \n",
    "    elif 'exit' in user_input:\n",
    "        speak(\"Thanks for giving me your time\")\n",
    "        exit()\n",
    "        brake\n",
    "    else:\n",
    "        speak('Hi I am your voice assistant how can I help you')\n",
    "\n",
    "\n",
    "while True:\n",
    "    run_voice_assistant()"
   ]
  },
  {
   "cell_type": "code",
   "execution_count": null,
   "id": "9e6e7b37",
   "metadata": {},
   "outputs": [],
   "source": []
  },
  {
   "cell_type": "code",
   "execution_count": null,
   "id": "42cf40b1",
   "metadata": {},
   "outputs": [],
   "source": []
  },
  {
   "cell_type": "code",
   "execution_count": null,
   "id": "df6922a4",
   "metadata": {},
   "outputs": [],
   "source": []
  },
  {
   "cell_type": "code",
   "execution_count": null,
   "id": "3fef2fe1",
   "metadata": {},
   "outputs": [],
   "source": []
  }
 ],
 "metadata": {
  "kernelspec": {
   "display_name": "Python 3 (ipykernel)",
   "language": "python",
   "name": "python3"
  },
  "language_info": {
   "codemirror_mode": {
    "name": "ipython",
    "version": 3
   },
   "file_extension": ".py",
   "mimetype": "text/x-python",
   "name": "python",
   "nbconvert_exporter": "python",
   "pygments_lexer": "ipython3",
   "version": "3.9.13"
  }
 },
 "nbformat": 4,
 "nbformat_minor": 5
}
